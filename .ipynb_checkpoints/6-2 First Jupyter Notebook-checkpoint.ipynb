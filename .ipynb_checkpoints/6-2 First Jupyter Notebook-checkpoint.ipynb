{
 "cells": [
  {
   "cell_type": "markdown",
   "metadata": {},
   "source": [
    "# Jupyter Notebook Example"
   ]
  },
  {
   "cell_type": "markdown",
   "metadata": {},
   "source": [
    "This is my first attempt at a Jupyter Notebook to demonstrate using markdown text and python code together as a way of sharing our work with instructions and tips. The following example is from Chapter 10 exercise #1.\n",
    "\n",
    "To run the code:\n",
    "1. Click in the code cell below.\n",
    "2. Use the Cell | Run Cells from the menu or press **[Shift]+[Enter]**.\n",
    "3. Type **data\\mbox.txt** when prompted.\n",
    "\n",
    "Edit the second line from the bottom to display the first 10 (top 10) and re-run the code. Try it with 20."
   ]
  },
  {
   "cell_type": "code",
   "execution_count": 3,
   "metadata": {},
   "outputs": [
    {
     "name": "stdout",
     "output_type": "stream",
     "text": [
      "Enter the file name: data\\mbox.txt\n",
      "195 zqian@umich.edu\n",
      "161 mmmay@indiana.edu\n",
      "158 cwen@iupui.edu\n",
      "111 chmaurer@iupui.edu\n",
      "110 aaronz@vt.edu\n",
      "96 ian@caret.cam.ac.uk\n",
      "93 jimeng@umich.edu\n",
      "90 rjlowe@iupui.edu\n",
      "84 dlhaines@umich.edu\n",
      "67 david.horwitz@uct.ac.za\n",
      "48 ajpoland@iupui.edu\n",
      "44 wagnermr@iupui.edu\n",
      "44 gjthomas@iupui.edu\n",
      "43 sgithens@caret.cam.ac.uk\n",
      "32 ray@media.berkeley.edu\n",
      "29 stephen.marquard@uct.ac.za\n",
      "28 nuno@ufp.pt\n",
      "28 josrodri@iupui.edu\n",
      "28 gsilver@umich.edu\n",
      "27 bkirschn@umich.edu\n"
     ]
    }
   ],
   "source": [
    "fname = input('Enter the file name: ')\n",
    "try:\n",
    "    fhand = open(fname)\n",
    "except:\n",
    "    print('File cannot be opened:', fname)\n",
    "    exit()\n",
    "counts = dict()\n",
    "for line in fhand:\n",
    "    words = line.split()\n",
    "    if not len(words) == 0 and words[0] == 'From' : \n",
    "        if words[1] not in counts:\n",
    "            counts[words[1]] = 1\n",
    "        else:\n",
    "            counts[words[1]] += 1\n",
    "\n",
    "# Sort the dictionary by value\n",
    "lst = list()\n",
    "for key, val in counts.items():\n",
    "    lst.append( (val, key) )\n",
    "lst.sort(reverse=True)\n",
    "\n",
    "for key, val in lst[:20] :   # changed to 20 for step 2!\n",
    "    print(key, val)"
   ]
  },
  {
   "cell_type": "code",
   "execution_count": null,
   "metadata": {
    "collapsed": true
   },
   "outputs": [],
   "source": []
  }
 ],
 "metadata": {
  "kernelspec": {
   "display_name": "Python 3",
   "language": "python",
   "name": "python3"
  },
  "language_info": {
   "codemirror_mode": {
    "name": "ipython",
    "version": 3
   },
   "file_extension": ".py",
   "mimetype": "text/x-python",
   "name": "python",
   "nbconvert_exporter": "python",
   "pygments_lexer": "ipython3",
   "version": "3.6.3"
  }
 },
 "nbformat": 4,
 "nbformat_minor": 2
}
