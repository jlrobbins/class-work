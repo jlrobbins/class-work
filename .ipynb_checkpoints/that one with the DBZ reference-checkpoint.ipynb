{
 "cells": [
  {
   "cell_type": "code",
   "execution_count": 1,
   "metadata": {},
   "outputs": [
    {
     "name": "stdout",
     "output_type": "stream",
     "text": [
      "Give me numbers! Type as many as you like. Submit each one with the enter key. When you're finished, type DONE and I'll add them up, tell you how many you entered, then give you their average.\n",
      "New number (or DONE): 561561\n",
      "561561\n",
      "New number (or DONE): 51\n",
      "51\n",
      "New number (or DONE): 75551\n",
      "75551\n",
      "New number (or DONE): 6514\n",
      "6514\n",
      "New number (or DONE): 45\n",
      "45\n",
      "New number (or DONE): -5416\n",
      "-5416\n",
      "New number (or DONE): fgh\n",
      "Sorry, I can only take numbers or DONE.\n",
      "New number (or DONE): 561\n",
      "561\n",
      "New number (or DONE): DONE\n",
      "Done!\n",
      "IT'S OVER 9,000!!!!!!!!!!!!!!!\n",
      "Your total, that is. It was: 638867.0 \n",
      "This is how many numbers you entered: 7 \n",
      "Your overall average: 91266.71428571429\n"
     ]
    }
   ],
   "source": [
    "print(\"Give me numbers! Type as many as you like. Submit each one with the enter key. When you're finished, type DONE and I'll add them up, tell you how many you entered, then give you their average.\")\n",
    "tot = 0\n",
    "coun = 0\n",
    "ave = 0\n",
    "while True:\n",
    "    line = input(\"New number (or DONE): \")\n",
    "    if line == 'DONE':\n",
    "        break\n",
    "    try:\n",
    "        tot = tot + float(line)\n",
    "    except:\n",
    "        print(\"Sorry, I can only take numbers or DONE.\")\n",
    "        continue\n",
    "    coun = coun + 1\n",
    "    print(line)\n",
    "print('Done!')\n",
    "if coun != 0:#prevent division by zero\n",
    "    ave = tot/coun\n",
    "    if tot > 9000:\n",
    "        print(\"IT'S OVER 9,000!!!!!!!!!!!!!!!\")\n",
    "        print(\"Your total, that is. It was:\",tot,\"\\nThis is how many numbers you entered:\",coun,\"\\nYour overall average:\",ave)\n",
    "    else:\n",
    "        print(\"All your numbers added together equal:\",tot,\"\\nThis is how many numbers you entered:\",coun,\"\\nYour overall average:\",ave)\n",
    "else:\n",
    "    print(\"Oh, so you didn't want to add anything? Okay. :) See you later!\")"
   ]
  },
  {
   "cell_type": "code",
   "execution_count": null,
   "metadata": {
    "collapsed": true
   },
   "outputs": [],
   "source": []
  }
 ],
 "metadata": {
  "kernelspec": {
   "display_name": "Python 3",
   "language": "python",
   "name": "python3"
  },
  "language_info": {
   "codemirror_mode": {
    "name": "ipython",
    "version": 3
   },
   "file_extension": ".py",
   "mimetype": "text/x-python",
   "name": "python",
   "nbconvert_exporter": "python",
   "pygments_lexer": "ipython3",
   "version": "3.6.3"
  }
 },
 "nbformat": 4,
 "nbformat_minor": 2
}
