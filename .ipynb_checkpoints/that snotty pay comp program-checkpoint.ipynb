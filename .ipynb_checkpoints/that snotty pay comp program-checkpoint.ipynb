{
 "cells": [
  {
   "cell_type": "code",
   "execution_count": null,
   "metadata": {},
   "outputs": [
    {
     "name": "stdout",
     "output_type": "stream",
     "text": [
      "Enter Hours: 0\n",
      "Ted, it's impossible to work less than you already do.\n",
      "Enter Rate: 0\n",
      "So you're, like, a volunteer?\n"
     ]
    }
   ],
   "source": [
    "def computepay(hours, rate):\n",
    "    pay = hours * rate\n",
    "    overtime = rate * 1.5\n",
    "    if hours > 40.0:\n",
    "        hours2 = hours - 40.0\n",
    "        pay = ((hours - hours2) * rate) + (hours2 * overtime)\n",
    "        return pay\n",
    "    else:\n",
    "        pay = hours * rate\n",
    "        return pay\n",
    "try:\n",
    "    hours = float(input('Enter Hours: '))\n",
    "except:\n",
    "    print(\"I'm sorry, Dave: I need a numeric value\")\n",
    "    exit()\n",
    "if hours <= 0:\n",
    "    print(\"Ted, it's impossible to work less than you already do.\")\n",
    "    exit()\n",
    "try:\n",
    "    rate = float(input('Enter Rate: '))\n",
    "except:\n",
    "    print(\"I'm sorry, Dave: I need a numeric value.\")\n",
    "    exit()\n",
    "if rate <= 0:\n",
    "    print(\"So you're, like, a volunteer?\")\n",
    "    exit()\n",
    "else:\n",
    "    pay = computepay(hours, rate)\n",
    "    print(pay)"
   ]
  },
  {
   "cell_type": "code",
   "execution_count": null,
   "metadata": {
    "collapsed": true
   },
   "outputs": [],
   "source": []
  }
 ],
 "metadata": {
  "kernelspec": {
   "display_name": "Python 3",
   "language": "python",
   "name": "python3"
  },
  "language_info": {
   "codemirror_mode": {
    "name": "ipython",
    "version": 3
   },
   "file_extension": ".py",
   "mimetype": "text/x-python",
   "name": "python",
   "nbconvert_exporter": "python",
   "pygments_lexer": "ipython3",
   "version": "3.6.3"
  }
 },
 "nbformat": 4,
 "nbformat_minor": 2
}
